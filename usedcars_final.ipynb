{
 "cells": [
  {
   "cell_type": "code",
   "execution_count": 5,
   "metadata": {},
   "outputs": [],
   "source": [
    "import numpy as np\n",
    "import pandas as pd # data processing, CSV file I/O (e.g. pd.read_csv)\n",
    "import os\n",
    "import seaborn as sns\n",
    "import matplotlib.pyplot as plt"
   ]
  },
  {
   "cell_type": "code",
   "execution_count": 6,
   "metadata": {},
   "outputs": [],
   "source": [
    "df=pd.read_excel(\"/Users/Ayesha/Desktop/usedcars1.xlsx\");"
   ]
  },
  {
   "cell_type": "code",
   "execution_count": 7,
   "metadata": {},
   "outputs": [
    {
     "data": {
      "text/html": [
       "<div>\n",
       "<style scoped>\n",
       "    .dataframe tbody tr th:only-of-type {\n",
       "        vertical-align: middle;\n",
       "    }\n",
       "\n",
       "    .dataframe tbody tr th {\n",
       "        vertical-align: top;\n",
       "    }\n",
       "\n",
       "    .dataframe thead th {\n",
       "        text-align: right;\n",
       "    }\n",
       "</style>\n",
       "<table border=\"1\" class=\"dataframe\">\n",
       "  <thead>\n",
       "    <tr style=\"text-align: right;\">\n",
       "      <th></th>\n",
       "      <th>id</th>\n",
       "      <th>url</th>\n",
       "      <th>region</th>\n",
       "      <th>region_url</th>\n",
       "      <th>price</th>\n",
       "      <th>year</th>\n",
       "      <th>manufacturer</th>\n",
       "      <th>model</th>\n",
       "      <th>condition</th>\n",
       "      <th>cylinders</th>\n",
       "      <th>...</th>\n",
       "      <th>drive</th>\n",
       "      <th>size</th>\n",
       "      <th>type</th>\n",
       "      <th>paint_color</th>\n",
       "      <th>image_url</th>\n",
       "      <th>description</th>\n",
       "      <th>county</th>\n",
       "      <th>state</th>\n",
       "      <th>lat</th>\n",
       "      <th>long</th>\n",
       "    </tr>\n",
       "  </thead>\n",
       "  <tbody>\n",
       "    <tr>\n",
       "      <td>0</td>\n",
       "      <td>7184791621</td>\n",
       "      <td>https://duluth.craigslist.org/ctd/d/duluth-200...</td>\n",
       "      <td>duluth / superior</td>\n",
       "      <td>https://duluth.craigslist.org</td>\n",
       "      <td>6995</td>\n",
       "      <td>2000</td>\n",
       "      <td>gmc</td>\n",
       "      <td>new sierra 1500</td>\n",
       "      <td>excellent</td>\n",
       "      <td>8 cylinders</td>\n",
       "      <td>...</td>\n",
       "      <td>4wd</td>\n",
       "      <td>NaN</td>\n",
       "      <td>NaN</td>\n",
       "      <td>red</td>\n",
       "      <td>https://images.craigslist.org/00n0n_f06ykBMcdh...</td>\n",
       "      <td>2000 *** GMC New Sierra 1500 Ext Cab 157.5  WB...</td>\n",
       "      <td>NaN</td>\n",
       "      <td>mn</td>\n",
       "      <td>46.8433</td>\n",
       "      <td>-92.2550</td>\n",
       "    </tr>\n",
       "    <tr>\n",
       "      <td>1</td>\n",
       "      <td>7184773187</td>\n",
       "      <td>https://duluth.craigslist.org/cto/d/saginaw-20...</td>\n",
       "      <td>duluth / superior</td>\n",
       "      <td>https://duluth.craigslist.org</td>\n",
       "      <td>8750</td>\n",
       "      <td>2013</td>\n",
       "      <td>hyundai</td>\n",
       "      <td>sonata</td>\n",
       "      <td>excellent</td>\n",
       "      <td>4 cylinders</td>\n",
       "      <td>...</td>\n",
       "      <td>fwd</td>\n",
       "      <td>NaN</td>\n",
       "      <td>NaN</td>\n",
       "      <td>grey</td>\n",
       "      <td>https://images.craigslist.org/00d0d_kgZ6xoeRw2...</td>\n",
       "      <td>For Sale:  2013 Hyundai Sonata GLS - $8750.  O...</td>\n",
       "      <td>NaN</td>\n",
       "      <td>mn</td>\n",
       "      <td>46.9074</td>\n",
       "      <td>-92.4638</td>\n",
       "    </tr>\n",
       "    <tr>\n",
       "      <td>2</td>\n",
       "      <td>7193375964</td>\n",
       "      <td>https://newhaven.craigslist.org/cto/d/stratfor...</td>\n",
       "      <td>new haven</td>\n",
       "      <td>https://newhaven.craigslist.org</td>\n",
       "      <td>10900</td>\n",
       "      <td>2013</td>\n",
       "      <td>toyota</td>\n",
       "      <td>prius</td>\n",
       "      <td>good</td>\n",
       "      <td>4 cylinders</td>\n",
       "      <td>...</td>\n",
       "      <td>fwd</td>\n",
       "      <td>NaN</td>\n",
       "      <td>NaN</td>\n",
       "      <td>blue</td>\n",
       "      <td>https://images.craigslist.org/00d0d_3sHGxPbY2O...</td>\n",
       "      <td>2013 Prius V Model Two. One owner‚Äîmust sell ...</td>\n",
       "      <td>NaN</td>\n",
       "      <td>ct</td>\n",
       "      <td>41.1770</td>\n",
       "      <td>-73.1336</td>\n",
       "    </tr>\n",
       "    <tr>\n",
       "      <td>3</td>\n",
       "      <td>7195108810</td>\n",
       "      <td>https://albuquerque.craigslist.org/cto/d/albuq...</td>\n",
       "      <td>albuquerque</td>\n",
       "      <td>https://albuquerque.craigslist.org</td>\n",
       "      <td>12500</td>\n",
       "      <td>2003</td>\n",
       "      <td>mitsubishi</td>\n",
       "      <td>lancer</td>\n",
       "      <td>good</td>\n",
       "      <td>4 cylinders</td>\n",
       "      <td>...</td>\n",
       "      <td>4wd</td>\n",
       "      <td>mid-size</td>\n",
       "      <td>sedan</td>\n",
       "      <td>grey</td>\n",
       "      <td>https://images.craigslist.org/00m0m_4a8Pb6JbMG...</td>\n",
       "      <td>2003 Mitsubishi Lancer Evolution, silver.  Abo...</td>\n",
       "      <td>NaN</td>\n",
       "      <td>nm</td>\n",
       "      <td>35.1868</td>\n",
       "      <td>-106.6650</td>\n",
       "    </tr>\n",
       "    <tr>\n",
       "      <td>4</td>\n",
       "      <td>7184712241</td>\n",
       "      <td>https://duluth.craigslist.org/ctd/d/rush-city-...</td>\n",
       "      <td>duluth / superior</td>\n",
       "      <td>https://duluth.craigslist.org</td>\n",
       "      <td>16995</td>\n",
       "      <td>2007</td>\n",
       "      <td>gmc</td>\n",
       "      <td>sierra classic 2500hd</td>\n",
       "      <td>good</td>\n",
       "      <td>8 cylinders</td>\n",
       "      <td>...</td>\n",
       "      <td>4wd</td>\n",
       "      <td>full-size</td>\n",
       "      <td>truck</td>\n",
       "      <td>white</td>\n",
       "      <td>https://images.craigslist.org/01414_g093aPtSMW...</td>\n",
       "      <td>**Bad Credit, No Credit... No Problem!**2007 G...</td>\n",
       "      <td>NaN</td>\n",
       "      <td>mn</td>\n",
       "      <td>45.6836</td>\n",
       "      <td>-92.9648</td>\n",
       "    </tr>\n",
       "  </tbody>\n",
       "</table>\n",
       "<p>5 rows × 25 columns</p>\n",
       "</div>"
      ],
      "text/plain": [
       "           id                                                url  \\\n",
       "0  7184791621  https://duluth.craigslist.org/ctd/d/duluth-200...   \n",
       "1  7184773187  https://duluth.craigslist.org/cto/d/saginaw-20...   \n",
       "2  7193375964  https://newhaven.craigslist.org/cto/d/stratfor...   \n",
       "3  7195108810  https://albuquerque.craigslist.org/cto/d/albuq...   \n",
       "4  7184712241  https://duluth.craigslist.org/ctd/d/rush-city-...   \n",
       "\n",
       "              region                          region_url  price  year  \\\n",
       "0  duluth / superior       https://duluth.craigslist.org   6995  2000   \n",
       "1  duluth / superior       https://duluth.craigslist.org   8750  2013   \n",
       "2          new haven     https://newhaven.craigslist.org  10900  2013   \n",
       "3        albuquerque  https://albuquerque.craigslist.org  12500  2003   \n",
       "4  duluth / superior       https://duluth.craigslist.org  16995  2007   \n",
       "\n",
       "  manufacturer                  model  condition    cylinders  ... drive  \\\n",
       "0          gmc        new sierra 1500  excellent  8 cylinders  ...   4wd   \n",
       "1      hyundai                 sonata  excellent  4 cylinders  ...   fwd   \n",
       "2       toyota                  prius       good  4 cylinders  ...   fwd   \n",
       "3   mitsubishi                 lancer       good  4 cylinders  ...   4wd   \n",
       "4          gmc  sierra classic 2500hd       good  8 cylinders  ...   4wd   \n",
       "\n",
       "        size   type paint_color  \\\n",
       "0        NaN    NaN         red   \n",
       "1        NaN    NaN        grey   \n",
       "2        NaN    NaN        blue   \n",
       "3   mid-size  sedan        grey   \n",
       "4  full-size  truck       white   \n",
       "\n",
       "                                           image_url  \\\n",
       "0  https://images.craigslist.org/00n0n_f06ykBMcdh...   \n",
       "1  https://images.craigslist.org/00d0d_kgZ6xoeRw2...   \n",
       "2  https://images.craigslist.org/00d0d_3sHGxPbY2O...   \n",
       "3  https://images.craigslist.org/00m0m_4a8Pb6JbMG...   \n",
       "4  https://images.craigslist.org/01414_g093aPtSMW...   \n",
       "\n",
       "                                         description county state      lat  \\\n",
       "0  2000 *** GMC New Sierra 1500 Ext Cab 157.5  WB...    NaN    mn  46.8433   \n",
       "1  For Sale:  2013 Hyundai Sonata GLS - $8750.  O...    NaN    mn  46.9074   \n",
       "2  2013 Prius V Model Two. One owner‚Äîmust sell ...    NaN    ct  41.1770   \n",
       "3  2003 Mitsubishi Lancer Evolution, silver.  Abo...    NaN    nm  35.1868   \n",
       "4  **Bad Credit, No Credit... No Problem!**2007 G...    NaN    mn  45.6836   \n",
       "\n",
       "       long  \n",
       "0  -92.2550  \n",
       "1  -92.4638  \n",
       "2  -73.1336  \n",
       "3 -106.6650  \n",
       "4  -92.9648  \n",
       "\n",
       "[5 rows x 25 columns]"
      ]
     },
     "execution_count": 7,
     "metadata": {},
     "output_type": "execute_result"
    }
   ],
   "source": [
    "df.head()"
   ]
  },
  {
   "cell_type": "code",
   "execution_count": 8,
   "metadata": {},
   "outputs": [
    {
     "name": "stdout",
     "output_type": "stream",
     "text": [
      "(2000, 25)\n"
     ]
    }
   ],
   "source": [
    "print(df.shape);"
   ]
  },
  {
   "cell_type": "code",
   "execution_count": 9,
   "metadata": {},
   "outputs": [
    {
     "name": "stdout",
     "output_type": "stream",
     "text": [
      "<class 'pandas.core.frame.DataFrame'>\n",
      "RangeIndex: 2000 entries, 0 to 1999\n",
      "Data columns (total 25 columns):\n",
      "id              2000 non-null int64\n",
      "url             2000 non-null object\n",
      "region          2000 non-null object\n",
      "region_url      2000 non-null object\n",
      "price           2000 non-null int64\n",
      "year            2000 non-null int64\n",
      "manufacturer    1913 non-null object\n",
      "model           1982 non-null object\n",
      "condition       1058 non-null object\n",
      "cylinders       1196 non-null object\n",
      "fuel            2000 non-null object\n",
      "odometer        1687 non-null float64\n",
      "title_status    2000 non-null object\n",
      "transmission    1986 non-null object\n",
      "vin             1222 non-null object\n",
      "drive           1390 non-null object\n",
      "size            586 non-null object\n",
      "type            1493 non-null object\n",
      "paint_color     1315 non-null object\n",
      "image_url       2000 non-null object\n",
      "description     2000 non-null object\n",
      "county          1 non-null object\n",
      "state           2000 non-null object\n",
      "lat             1990 non-null float64\n",
      "long            1989 non-null float64\n",
      "dtypes: float64(3), int64(3), object(19)\n",
      "memory usage: 390.8+ KB\n",
      "None\n"
     ]
    }
   ],
   "source": [
    "print(df.info())"
   ]
  },
  {
   "cell_type": "code",
   "execution_count": 10,
   "metadata": {},
   "outputs": [
    {
     "data": {
      "text/html": [
       "<div>\n",
       "<style scoped>\n",
       "    .dataframe tbody tr th:only-of-type {\n",
       "        vertical-align: middle;\n",
       "    }\n",
       "\n",
       "    .dataframe tbody tr th {\n",
       "        vertical-align: top;\n",
       "    }\n",
       "\n",
       "    .dataframe thead th {\n",
       "        text-align: right;\n",
       "    }\n",
       "</style>\n",
       "<table border=\"1\" class=\"dataframe\">\n",
       "  <thead>\n",
       "    <tr style=\"text-align: right;\">\n",
       "      <th></th>\n",
       "      <th>url</th>\n",
       "      <th>region</th>\n",
       "      <th>region_url</th>\n",
       "      <th>manufacturer</th>\n",
       "      <th>model</th>\n",
       "      <th>condition</th>\n",
       "      <th>cylinders</th>\n",
       "      <th>fuel</th>\n",
       "      <th>title_status</th>\n",
       "      <th>transmission</th>\n",
       "      <th>vin</th>\n",
       "      <th>drive</th>\n",
       "      <th>size</th>\n",
       "      <th>type</th>\n",
       "      <th>paint_color</th>\n",
       "      <th>image_url</th>\n",
       "      <th>description</th>\n",
       "      <th>county</th>\n",
       "      <th>state</th>\n",
       "    </tr>\n",
       "  </thead>\n",
       "  <tbody>\n",
       "    <tr>\n",
       "      <td>count</td>\n",
       "      <td>2000</td>\n",
       "      <td>2000</td>\n",
       "      <td>2000</td>\n",
       "      <td>1913</td>\n",
       "      <td>1982</td>\n",
       "      <td>1058</td>\n",
       "      <td>1196</td>\n",
       "      <td>2000</td>\n",
       "      <td>2000</td>\n",
       "      <td>1986</td>\n",
       "      <td>1222</td>\n",
       "      <td>1390</td>\n",
       "      <td>586</td>\n",
       "      <td>1493</td>\n",
       "      <td>1315</td>\n",
       "      <td>2000</td>\n",
       "      <td>2000</td>\n",
       "      <td>1</td>\n",
       "      <td>2000</td>\n",
       "    </tr>\n",
       "    <tr>\n",
       "      <td>unique</td>\n",
       "      <td>2000</td>\n",
       "      <td>17</td>\n",
       "      <td>17</td>\n",
       "      <td>34</td>\n",
       "      <td>1027</td>\n",
       "      <td>5</td>\n",
       "      <td>7</td>\n",
       "      <td>5</td>\n",
       "      <td>6</td>\n",
       "      <td>3</td>\n",
       "      <td>1141</td>\n",
       "      <td>3</td>\n",
       "      <td>4</td>\n",
       "      <td>12</td>\n",
       "      <td>12</td>\n",
       "      <td>1943</td>\n",
       "      <td>1994</td>\n",
       "      <td>1</td>\n",
       "      <td>11</td>\n",
       "    </tr>\n",
       "    <tr>\n",
       "      <td>top</td>\n",
       "      <td>https://albuquerque.craigslist.org/ctd/d/albuq...</td>\n",
       "      <td>bellingham</td>\n",
       "      <td>https://bellingham.craigslist.org</td>\n",
       "      <td>ford</td>\n",
       "      <td>f-150</td>\n",
       "      <td>excellent</td>\n",
       "      <td>4 cylinders</td>\n",
       "      <td>gas</td>\n",
       "      <td>clean</td>\n",
       "      <td>automatic</td>\n",
       "      <td>3N1CN7AP7JL808209</td>\n",
       "      <td>4wd</td>\n",
       "      <td>full-size</td>\n",
       "      <td>SUV</td>\n",
       "      <td>white</td>\n",
       "      <td>https://images.craigslist.org/00f0f_2i1JYewwwQ...</td>\n",
       "      <td>‚óè- WE BUY CARS AND TRUCKS WITH TITLE AND WIT...</td>\n",
       "      <td>wa</td>\n",
       "      <td>wa</td>\n",
       "    </tr>\n",
       "    <tr>\n",
       "      <td>freq</td>\n",
       "      <td>1</td>\n",
       "      <td>601</td>\n",
       "      <td>601</td>\n",
       "      <td>380</td>\n",
       "      <td>49</td>\n",
       "      <td>466</td>\n",
       "      <td>451</td>\n",
       "      <td>1803</td>\n",
       "      <td>1912</td>\n",
       "      <td>1789</td>\n",
       "      <td>4</td>\n",
       "      <td>695</td>\n",
       "      <td>296</td>\n",
       "      <td>440</td>\n",
       "      <td>317</td>\n",
       "      <td>4</td>\n",
       "      <td>2</td>\n",
       "      <td>1</td>\n",
       "      <td>647</td>\n",
       "    </tr>\n",
       "  </tbody>\n",
       "</table>\n",
       "</div>"
      ],
      "text/plain": [
       "                                                      url      region  \\\n",
       "count                                                2000        2000   \n",
       "unique                                               2000          17   \n",
       "top     https://albuquerque.craigslist.org/ctd/d/albuq...  bellingham   \n",
       "freq                                                    1         601   \n",
       "\n",
       "                               region_url manufacturer  model  condition  \\\n",
       "count                                2000         1913   1982       1058   \n",
       "unique                                 17           34   1027          5   \n",
       "top     https://bellingham.craigslist.org         ford  f-150  excellent   \n",
       "freq                                  601          380     49        466   \n",
       "\n",
       "          cylinders  fuel title_status transmission                vin drive  \\\n",
       "count          1196  2000         2000         1986               1222  1390   \n",
       "unique            7     5            6            3               1141     3   \n",
       "top     4 cylinders   gas        clean    automatic  3N1CN7AP7JL808209   4wd   \n",
       "freq            451  1803         1912         1789                  4   695   \n",
       "\n",
       "             size  type paint_color  \\\n",
       "count         586  1493        1315   \n",
       "unique          4    12          12   \n",
       "top     full-size   SUV       white   \n",
       "freq          296   440         317   \n",
       "\n",
       "                                                image_url  \\\n",
       "count                                                2000   \n",
       "unique                                               1943   \n",
       "top     https://images.craigslist.org/00f0f_2i1JYewwwQ...   \n",
       "freq                                                    4   \n",
       "\n",
       "                                              description county state  \n",
       "count                                                2000      1  2000  \n",
       "unique                                               1994      1    11  \n",
       "top     ‚óè- WE BUY CARS AND TRUCKS WITH TITLE AND WIT...     wa    wa  \n",
       "freq                                                    2      1   647  "
      ]
     },
     "execution_count": 10,
     "metadata": {},
     "output_type": "execute_result"
    }
   ],
   "source": [
    "df.describe(include=['O']) #Categorical data"
   ]
  },
  {
   "cell_type": "code",
   "execution_count": 11,
   "metadata": {},
   "outputs": [
    {
     "data": {
      "text/html": [
       "<div>\n",
       "<style scoped>\n",
       "    .dataframe tbody tr th:only-of-type {\n",
       "        vertical-align: middle;\n",
       "    }\n",
       "\n",
       "    .dataframe tbody tr th {\n",
       "        vertical-align: top;\n",
       "    }\n",
       "\n",
       "    .dataframe thead th {\n",
       "        text-align: right;\n",
       "    }\n",
       "</style>\n",
       "<table border=\"1\" class=\"dataframe\">\n",
       "  <thead>\n",
       "    <tr style=\"text-align: right;\">\n",
       "      <th></th>\n",
       "      <th>id</th>\n",
       "      <th>price</th>\n",
       "      <th>year</th>\n",
       "      <th>odometer</th>\n",
       "      <th>lat</th>\n",
       "      <th>long</th>\n",
       "    </tr>\n",
       "  </thead>\n",
       "  <tbody>\n",
       "    <tr>\n",
       "      <td>count</td>\n",
       "      <td>2.000000e+03</td>\n",
       "      <td>2000.000000</td>\n",
       "      <td>2000.000000</td>\n",
       "      <td>1.687000e+03</td>\n",
       "      <td>1990.000000</td>\n",
       "      <td>1989.00000</td>\n",
       "    </tr>\n",
       "    <tr>\n",
       "      <td>mean</td>\n",
       "      <td>7.187021e+09</td>\n",
       "      <td>15939.718000</td>\n",
       "      <td>2010.095500</td>\n",
       "      <td>9.612943e+04</td>\n",
       "      <td>41.802280</td>\n",
       "      <td>-101.44358</td>\n",
       "    </tr>\n",
       "    <tr>\n",
       "      <td>std</td>\n",
       "      <td>4.234579e+06</td>\n",
       "      <td>15132.126682</td>\n",
       "      <td>9.981242</td>\n",
       "      <td>9.976669e+04</td>\n",
       "      <td>8.534999</td>\n",
       "      <td>16.86056</td>\n",
       "    </tr>\n",
       "    <tr>\n",
       "      <td>min</td>\n",
       "      <td>7.179432e+09</td>\n",
       "      <td>0.000000</td>\n",
       "      <td>1927.000000</td>\n",
       "      <td>0.000000e+00</td>\n",
       "      <td>-117.412000</td>\n",
       "      <td>-122.76300</td>\n",
       "    </tr>\n",
       "    <tr>\n",
       "      <td>25%</td>\n",
       "      <td>7.184195e+09</td>\n",
       "      <td>5950.000000</td>\n",
       "      <td>2007.000000</td>\n",
       "      <td>3.872450e+04</td>\n",
       "      <td>35.324000</td>\n",
       "      <td>-122.29700</td>\n",
       "    </tr>\n",
       "    <tr>\n",
       "      <td>50%</td>\n",
       "      <td>7.185858e+09</td>\n",
       "      <td>11995.000000</td>\n",
       "      <td>2012.000000</td>\n",
       "      <td>8.400000e+04</td>\n",
       "      <td>45.553400</td>\n",
       "      <td>-97.04500</td>\n",
       "    </tr>\n",
       "    <tr>\n",
       "      <td>75%</td>\n",
       "      <td>7.187821e+09</td>\n",
       "      <td>20950.000000</td>\n",
       "      <td>2016.000000</td>\n",
       "      <td>1.367695e+05</td>\n",
       "      <td>47.920200</td>\n",
       "      <td>-91.51590</td>\n",
       "    </tr>\n",
       "    <tr>\n",
       "      <td>max</td>\n",
       "      <td>7.195198e+09</td>\n",
       "      <td>150000.000000</td>\n",
       "      <td>2020.000000</td>\n",
       "      <td>2.564237e+06</td>\n",
       "      <td>48.970600</td>\n",
       "      <td>-71.97740</td>\n",
       "    </tr>\n",
       "  </tbody>\n",
       "</table>\n",
       "</div>"
      ],
      "text/plain": [
       "                 id          price         year      odometer          lat  \\\n",
       "count  2.000000e+03    2000.000000  2000.000000  1.687000e+03  1990.000000   \n",
       "mean   7.187021e+09   15939.718000  2010.095500  9.612943e+04    41.802280   \n",
       "std    4.234579e+06   15132.126682     9.981242  9.976669e+04     8.534999   \n",
       "min    7.179432e+09       0.000000  1927.000000  0.000000e+00  -117.412000   \n",
       "25%    7.184195e+09    5950.000000  2007.000000  3.872450e+04    35.324000   \n",
       "50%    7.185858e+09   11995.000000  2012.000000  8.400000e+04    45.553400   \n",
       "75%    7.187821e+09   20950.000000  2016.000000  1.367695e+05    47.920200   \n",
       "max    7.195198e+09  150000.000000  2020.000000  2.564237e+06    48.970600   \n",
       "\n",
       "             long  \n",
       "count  1989.00000  \n",
       "mean   -101.44358  \n",
       "std      16.86056  \n",
       "min    -122.76300  \n",
       "25%    -122.29700  \n",
       "50%     -97.04500  \n",
       "75%     -91.51590  \n",
       "max     -71.97740  "
      ]
     },
     "execution_count": 11,
     "metadata": {},
     "output_type": "execute_result"
    }
   ],
   "source": [
    "df.describe() #Numerical data"
   ]
  },
  {
   "cell_type": "code",
   "execution_count": 12,
   "metadata": {},
   "outputs": [
    {
     "name": "stdout",
     "output_type": "stream",
     "text": [
      "id              2000\n",
      "url             2000\n",
      "region            17\n",
      "region_url        17\n",
      "price            732\n",
      "year              65\n",
      "manufacturer      34\n",
      "model           1027\n",
      "condition          5\n",
      "cylinders          7\n",
      "fuel               5\n",
      "odometer        1374\n",
      "title_status       6\n",
      "transmission       3\n",
      "vin             1141\n",
      "drive              3\n",
      "size               4\n",
      "type              12\n",
      "paint_color       12\n",
      "image_url       1943\n",
      "description     1994\n",
      "county             1\n",
      "state             11\n",
      "lat              578\n",
      "long             565\n",
      "dtype: int64\n"
     ]
    },
    {
     "data": {
      "image/png": "[encoded data removed]",
      "text/plain": [
       "<Figure size 432x288 with 3 Axes>"
      ]
     },
     "metadata": {
      "needs_background": "light"
     },
     "output_type": "display_data"
    }
   ],
   "source": [
    "sns.heatmap(df.isnull())\n",
    "print(df.nunique(axis=0));\n",
    "plt.title(\"Missing values for each column\")\n",
    "sns.heatmap(df.isnull())\n",
    "plt.show()"
   ]
  },
  {
   "cell_type": "code",
   "execution_count": 13,
   "metadata": {},
   "outputs": [
    {
     "name": "stdout",
     "output_type": "stream",
     "text": [
      "Index(['id', 'url', 'region', 'region_url', 'price', 'year', 'manufacturer',\n",
      "       'model', 'fuel', 'odometer', 'title_status', 'transmission', 'vin',\n",
      "       'drive', 'type', 'paint_color', 'image_url', 'description', 'state',\n",
      "       'lat', 'long'],\n",
      "      dtype='object')\n"
     ]
    }
   ],
   "source": [
    "NA_val = df.isna().sum();\n",
    "def na_filter(na, threshold = .4): #only select variables that passees the threshold\n",
    "    col_pass = [];\n",
    "    for i in na.keys():\n",
    "        if na[i]/df.shape[0]<threshold:\n",
    "            col_pass.append(i);\n",
    "    return col_pass;\n",
    "df_cleaned = df[na_filter(NA_val)];\n",
    "print(df_cleaned.columns);"
   ]
  },
  {
   "cell_type": "code",
   "execution_count": 14,
   "metadata": {},
   "outputs": [
    {
     "name": "stdout",
     "output_type": "stream",
     "text": [
      "(2000, 19)\n"
     ]
    }
   ],
   "source": [
    "df_cleaned = df_cleaned.copy().drop(['id','model'],axis=1);\n",
    "print(df_cleaned.shape);"
   ]
  },
  {
   "cell_type": "code",
   "execution_count": 15,
   "metadata": {},
   "outputs": [
    {
     "data": {
      "image/png": "[encoded data removed]",
      "text/plain": [
       "<Figure size 432x288 with 1 Axes>"
      ]
     },
     "metadata": {
      "needs_background": "light"
     },
     "output_type": "display_data"
    }
   ],
   "source": [
    "df[df.year >= 1900].year.value_counts().sort_index().plot(lw = 4)\n",
    "plt.title(\"Number of vehicles in the dataset by build year\")\n",
    "plt.xlabel(\"Year\")\n",
    "plt.ylabel(\"Count\")\n",
    "plt.show()"
   ]
  },
  {
   "cell_type": "code",
   "execution_count": 20,
   "metadata": {},
   "outputs": [],
   "source": [
    "df_cleaned = df_cleaned[df_cleaned['year'].between(1900, 2020)]# = 140000 + 1.5 * (140000-52379)\n",
    "df_cleaned = df_cleaned[df_cleaned['odometer'].between(0, 271431.5)]\n",
    "df_cleaned = df_cleaned[df_cleaned['price'].between(999.99, 250000)];"
   ]
  },
  {
   "cell_type": "code",
   "execution_count": 21,
   "metadata": {},
   "outputs": [
    {
     "name": "stdout",
     "output_type": "stream",
     "text": [
      "url               0\n",
      "region            0\n",
      "region_url        0\n",
      "price             0\n",
      "year              0\n",
      "manufacturer     48\n",
      "fuel              0\n",
      "odometer          0\n",
      "title_status      0\n",
      "transmission     14\n",
      "vin             448\n",
      "drive           366\n",
      "type            256\n",
      "paint_color     448\n",
      "image_url         0\n",
      "description       0\n",
      "state             0\n",
      "lat               2\n",
      "long              3\n",
      "dtype: int64\n"
     ]
    }
   ],
   "source": [
    "print(df_cleaned.isnull().sum());"
   ]
  },
  {
   "cell_type": "code",
   "execution_count": 23,
   "metadata": {},
   "outputs": [
    {
     "ename": "KeyError",
     "evalue": "'condition'",
     "output_type": "error",
     "traceback": [
      "\u001b[0;31m---------------------------------------------------------------------------\u001b[0m",
      "\u001b[0;31mKeyError\u001b[0m                                  Traceback (most recent call last)",
      "\u001b[0;32m/opt/anaconda3/lib/python3.7/site-packages/pandas/core/indexes/base.py\u001b[0m in \u001b[0;36mget_loc\u001b[0;34m(self, key, method, tolerance)\u001b[0m\n\u001b[1;32m   2896\u001b[0m             \u001b[0;32mtry\u001b[0m\u001b[0;34m:\u001b[0m\u001b[0;34m\u001b[0m\u001b[0;34m\u001b[0m\u001b[0m\n\u001b[0;32m-> 2897\u001b[0;31m                 \u001b[0;32mreturn\u001b[0m \u001b[0mself\u001b[0m\u001b[0;34m.\u001b[0m\u001b[0m_engine\u001b[0m\u001b[0;34m.\u001b[0m\u001b[0mget_loc\u001b[0m\u001b[0;34m(\u001b[0m\u001b[0mkey\u001b[0m\u001b[0;34m)\u001b[0m\u001b[0;34m\u001b[0m\u001b[0;34m\u001b[0m\u001b[0m\n\u001b[0m\u001b[1;32m   2898\u001b[0m             \u001b[0;32mexcept\u001b[0m \u001b[0mKeyError\u001b[0m\u001b[0;34m:\u001b[0m\u001b[0;34m\u001b[0m\u001b[0;34m\u001b[0m\u001b[0m\n",
      "\u001b[0;32mpandas/_libs/index.pyx\u001b[0m in \u001b[0;36mpandas._libs.index.IndexEngine.get_loc\u001b[0;34m()\u001b[0m\n",
      "\u001b[0;32mpandas/_libs/index.pyx\u001b[0m in \u001b[0;36mpandas._libs.index.IndexEngine.get_loc\u001b[0;34m()\u001b[0m\n",
      "\u001b[0;32mpandas/_libs/hashtable_class_helper.pxi\u001b[0m in \u001b[0;36mpandas._libs.hashtable.PyObjectHashTable.get_item\u001b[0;34m()\u001b[0m\n",
      "\u001b[0;32mpandas/_libs/hashtable_class_helper.pxi\u001b[0m in \u001b[0;36mpandas._libs.hashtable.PyObjectHashTable.get_item\u001b[0;34m()\u001b[0m\n",
      "\u001b[0;31mKeyError\u001b[0m: 'condition'",
      "\nDuring handling of the above exception, another exception occurred:\n",
      "\u001b[0;31mKeyError\u001b[0m                                  Traceback (most recent call last)",
      "\u001b[0;32m<ipython-input-23-2c7d51e1b73e>\u001b[0m in \u001b[0;36m<module>\u001b[0;34m\u001b[0m\n\u001b[1;32m      1\u001b[0m \u001b[0mmode2\u001b[0m \u001b[0;34m=\u001b[0m \u001b[0mdf_cleaned\u001b[0m\u001b[0;34m[\u001b[0m\u001b[0;34m\"drive\"\u001b[0m\u001b[0;34m]\u001b[0m\u001b[0;34m.\u001b[0m\u001b[0mmode\u001b[0m\u001b[0;34m(\u001b[0m\u001b[0;34m)\u001b[0m\u001b[0;34m.\u001b[0m\u001b[0mvalues\u001b[0m\u001b[0;34m[\u001b[0m\u001b[0;36m0\u001b[0m\u001b[0;34m]\u001b[0m\u001b[0;34m;\u001b[0m\u001b[0;34m\u001b[0m\u001b[0;34m\u001b[0m\u001b[0m\n\u001b[1;32m      2\u001b[0m \u001b[0mmode3\u001b[0m\u001b[0;34m=\u001b[0m \u001b[0mdf_cleaned\u001b[0m\u001b[0;34m[\u001b[0m\u001b[0;34m\"type\"\u001b[0m\u001b[0;34m]\u001b[0m\u001b[0;34m.\u001b[0m\u001b[0mmode\u001b[0m\u001b[0;34m(\u001b[0m\u001b[0;34m)\u001b[0m\u001b[0;34m.\u001b[0m\u001b[0mvalues\u001b[0m\u001b[0;34m[\u001b[0m\u001b[0;36m0\u001b[0m\u001b[0;34m]\u001b[0m\u001b[0;34m;\u001b[0m\u001b[0;34m\u001b[0m\u001b[0;34m\u001b[0m\u001b[0m\n\u001b[0;32m----> 3\u001b[0;31m \u001b[0mmode4\u001b[0m\u001b[0;34m=\u001b[0m \u001b[0mdf_cleaned\u001b[0m\u001b[0;34m[\u001b[0m\u001b[0;34m\"condition\"\u001b[0m\u001b[0;34m]\u001b[0m\u001b[0;34m.\u001b[0m\u001b[0mmode\u001b[0m\u001b[0;34m(\u001b[0m\u001b[0;34m)\u001b[0m\u001b[0;34m.\u001b[0m\u001b[0mvalues\u001b[0m\u001b[0;34m[\u001b[0m\u001b[0;36m0\u001b[0m\u001b[0;34m]\u001b[0m\u001b[0;34m;\u001b[0m\u001b[0;34m\u001b[0m\u001b[0;34m\u001b[0m\u001b[0m\n\u001b[0m\u001b[1;32m      4\u001b[0m \u001b[0;34m\u001b[0m\u001b[0m\n\u001b[1;32m      5\u001b[0m \u001b[0;34m\u001b[0m\u001b[0m\n",
      "\u001b[0;32m/opt/anaconda3/lib/python3.7/site-packages/pandas/core/frame.py\u001b[0m in \u001b[0;36m__getitem__\u001b[0;34m(self, key)\u001b[0m\n\u001b[1;32m   2978\u001b[0m             \u001b[0;32mif\u001b[0m \u001b[0mself\u001b[0m\u001b[0;34m.\u001b[0m\u001b[0mcolumns\u001b[0m\u001b[0;34m.\u001b[0m\u001b[0mnlevels\u001b[0m \u001b[0;34m>\u001b[0m \u001b[0;36m1\u001b[0m\u001b[0;34m:\u001b[0m\u001b[0;34m\u001b[0m\u001b[0;34m\u001b[0m\u001b[0m\n\u001b[1;32m   2979\u001b[0m                 \u001b[0;32mreturn\u001b[0m \u001b[0mself\u001b[0m\u001b[0;34m.\u001b[0m\u001b[0m_getitem_multilevel\u001b[0m\u001b[0;34m(\u001b[0m\u001b[0mkey\u001b[0m\u001b[0;34m)\u001b[0m\u001b[0;34m\u001b[0m\u001b[0;34m\u001b[0m\u001b[0m\n\u001b[0;32m-> 2980\u001b[0;31m             \u001b[0mindexer\u001b[0m \u001b[0;34m=\u001b[0m \u001b[0mself\u001b[0m\u001b[0;34m.\u001b[0m\u001b[0mcolumns\u001b[0m\u001b[0;34m.\u001b[0m\u001b[0mget_loc\u001b[0m\u001b[0;34m(\u001b[0m\u001b[0mkey\u001b[0m\u001b[0;34m)\u001b[0m\u001b[0;34m\u001b[0m\u001b[0;34m\u001b[0m\u001b[0m\n\u001b[0m\u001b[1;32m   2981\u001b[0m             \u001b[0;32mif\u001b[0m \u001b[0mis_integer\u001b[0m\u001b[0;34m(\u001b[0m\u001b[0mindexer\u001b[0m\u001b[0;34m)\u001b[0m\u001b[0;34m:\u001b[0m\u001b[0;34m\u001b[0m\u001b[0;34m\u001b[0m\u001b[0m\n\u001b[1;32m   2982\u001b[0m                 \u001b[0mindexer\u001b[0m \u001b[0;34m=\u001b[0m \u001b[0;34m[\u001b[0m\u001b[0mindexer\u001b[0m\u001b[0;34m]\u001b[0m\u001b[0;34m\u001b[0m\u001b[0;34m\u001b[0m\u001b[0m\n",
      "\u001b[0;32m/opt/anaconda3/lib/python3.7/site-packages/pandas/core/indexes/base.py\u001b[0m in \u001b[0;36mget_loc\u001b[0;34m(self, key, method, tolerance)\u001b[0m\n\u001b[1;32m   2897\u001b[0m                 \u001b[0;32mreturn\u001b[0m \u001b[0mself\u001b[0m\u001b[0;34m.\u001b[0m\u001b[0m_engine\u001b[0m\u001b[0;34m.\u001b[0m\u001b[0mget_loc\u001b[0m\u001b[0;34m(\u001b[0m\u001b[0mkey\u001b[0m\u001b[0;34m)\u001b[0m\u001b[0;34m\u001b[0m\u001b[0;34m\u001b[0m\u001b[0m\n\u001b[1;32m   2898\u001b[0m             \u001b[0;32mexcept\u001b[0m \u001b[0mKeyError\u001b[0m\u001b[0;34m:\u001b[0m\u001b[0;34m\u001b[0m\u001b[0;34m\u001b[0m\u001b[0m\n\u001b[0;32m-> 2899\u001b[0;31m                 \u001b[0;32mreturn\u001b[0m \u001b[0mself\u001b[0m\u001b[0;34m.\u001b[0m\u001b[0m_engine\u001b[0m\u001b[0;34m.\u001b[0m\u001b[0mget_loc\u001b[0m\u001b[0;34m(\u001b[0m\u001b[0mself\u001b[0m\u001b[0;34m.\u001b[0m\u001b[0m_maybe_cast_indexer\u001b[0m\u001b[0;34m(\u001b[0m\u001b[0mkey\u001b[0m\u001b[0;34m)\u001b[0m\u001b[0;34m)\u001b[0m\u001b[0;34m\u001b[0m\u001b[0;34m\u001b[0m\u001b[0m\n\u001b[0m\u001b[1;32m   2900\u001b[0m         \u001b[0mindexer\u001b[0m \u001b[0;34m=\u001b[0m \u001b[0mself\u001b[0m\u001b[0;34m.\u001b[0m\u001b[0mget_indexer\u001b[0m\u001b[0;34m(\u001b[0m\u001b[0;34m[\u001b[0m\u001b[0mkey\u001b[0m\u001b[0;34m]\u001b[0m\u001b[0;34m,\u001b[0m \u001b[0mmethod\u001b[0m\u001b[0;34m=\u001b[0m\u001b[0mmethod\u001b[0m\u001b[0;34m,\u001b[0m \u001b[0mtolerance\u001b[0m\u001b[0;34m=\u001b[0m\u001b[0mtolerance\u001b[0m\u001b[0;34m)\u001b[0m\u001b[0;34m\u001b[0m\u001b[0;34m\u001b[0m\u001b[0m\n\u001b[1;32m   2901\u001b[0m         \u001b[0;32mif\u001b[0m \u001b[0mindexer\u001b[0m\u001b[0;34m.\u001b[0m\u001b[0mndim\u001b[0m \u001b[0;34m>\u001b[0m \u001b[0;36m1\u001b[0m \u001b[0;32mor\u001b[0m \u001b[0mindexer\u001b[0m\u001b[0;34m.\u001b[0m\u001b[0msize\u001b[0m \u001b[0;34m>\u001b[0m \u001b[0;36m1\u001b[0m\u001b[0;34m:\u001b[0m\u001b[0;34m\u001b[0m\u001b[0;34m\u001b[0m\u001b[0m\n",
      "\u001b[0;32mpandas/_libs/index.pyx\u001b[0m in \u001b[0;36mpandas._libs.index.IndexEngine.get_loc\u001b[0;34m()\u001b[0m\n",
      "\u001b[0;32mpandas/_libs/index.pyx\u001b[0m in \u001b[0;36mpandas._libs.index.IndexEngine.get_loc\u001b[0;34m()\u001b[0m\n",
      "\u001b[0;32mpandas/_libs/hashtable_class_helper.pxi\u001b[0m in \u001b[0;36mpandas._libs.hashtable.PyObjectHashTable.get_item\u001b[0;34m()\u001b[0m\n",
      "\u001b[0;32mpandas/_libs/hashtable_class_helper.pxi\u001b[0m in \u001b[0;36mpandas._libs.hashtable.PyObjectHashTable.get_item\u001b[0;34m()\u001b[0m\n",
      "\u001b[0;31mKeyError\u001b[0m: 'condition'"
     ]
    }
   ],
   "source": [
    "\n",
    "mode2 = df_cleaned[\"drive\"].mode().values[0];\n",
    "mode3= df_cleaned[\"type\"].mode().values[0];\n",
    "mode4= df_cleaned[\"condition\"].mode().values[0];\n",
    "\n",
    "\n",
    "df_cleaned[\"drive\"]=df_cleaned[\"drive\"].replace(np.nan,mode2);\n",
    "df_cleaned[\"type\"]=df_cleaned[\"type\"].replace(np.NaN,mode3);\n",
    "df_cleaned[\"condition\"]=df_cleaned[\"condition\"].replace(np.nan,mode4);\n",
    "print(df_cleaned);"
   ]
  },
  {
   "cell_type": "code",
   "execution_count": 24,
   "metadata": {},
   "outputs": [
    {
     "name": "stdout",
     "output_type": "stream",
     "text": [
      "url               0\n",
      "region            0\n",
      "region_url        0\n",
      "price             0\n",
      "year              0\n",
      "manufacturer     48\n",
      "fuel              0\n",
      "odometer          0\n",
      "title_status      0\n",
      "transmission     14\n",
      "vin             448\n",
      "drive           366\n",
      "type            256\n",
      "paint_color     448\n",
      "image_url         0\n",
      "description       0\n",
      "state             0\n",
      "lat               2\n",
      "long              3\n",
      "dtype: int64\n"
     ]
    }
   ],
   "source": [
    "print(df_cleaned.isnull().sum());"
   ]
  },
  {
   "cell_type": "code",
   "execution_count": 25,
   "metadata": {},
   "outputs": [],
   "source": [
    "df_cleaned=df_cleaned.dropna();"
   ]
  },
  {
   "cell_type": "code",
   "execution_count": 26,
   "metadata": {},
   "outputs": [
    {
     "data": {
      "image/png": "[encoded data removed]",
      "text/plain": [
       "<Figure size 432x288 with 2 Axes>"
      ]
     },
     "metadata": {
      "needs_background": "light"
     },
     "output_type": "display_data"
    }
   ],
   "source": [
    "sns.heatmap(df_cleaned.isnull());"
   ]
  },
  {
   "cell_type": "code",
   "execution_count": 27,
   "metadata": {},
   "outputs": [
    {
     "name": "stdout",
     "output_type": "stream",
     "text": [
      "0\n"
     ]
    }
   ],
   "source": [
    "duplicate = df_cleaned.duplicated();\n",
    "print(duplicate.sum());"
   ]
  },
  {
   "cell_type": "code",
   "execution_count": 28,
   "metadata": {},
   "outputs": [
    {
     "name": "stdout",
     "output_type": "stream",
     "text": [
      "0\n"
     ]
    },
    {
     "name": "stderr",
     "output_type": "stream",
     "text": [
      "/opt/anaconda3/lib/python3.7/site-packages/ipykernel_launcher.py:1: SettingWithCopyWarning: \n",
      "A value is trying to be set on a copy of a slice from a DataFrame\n",
      "\n",
      "See the caveats in the documentation: http://pandas.pydata.org/pandas-docs/stable/user_guide/indexing.html#returning-a-view-versus-a-copy\n",
      "  \"\"\"Entry point for launching an IPython kernel.\n"
     ]
    }
   ],
   "source": [
    "df_cleaned.drop_duplicates(inplace=True);\n",
    "dp1=df_cleaned.duplicated();\n",
    "print(dp1.sum());"
   ]
  },
  {
   "cell_type": "code",
   "execution_count": 29,
   "metadata": {},
   "outputs": [
    {
     "name": "stdout",
     "output_type": "stream",
     "text": [
      "4       truck\n",
      "5       truck\n",
      "6         suv\n",
      "7         suv\n",
      "8         suv\n",
      "        ...  \n",
      "1987    truck\n",
      "1991    sedan\n",
      "1992    sedan\n",
      "1994    truck\n",
      "1996    truck\n",
      "Name: type, Length: 608, dtype: object\n"
     ]
    },
    {
     "name": "stderr",
     "output_type": "stream",
     "text": [
      "/opt/anaconda3/lib/python3.7/site-packages/ipykernel_launcher.py:1: SettingWithCopyWarning: \n",
      "A value is trying to be set on a copy of a slice from a DataFrame.\n",
      "Try using .loc[row_indexer,col_indexer] = value instead\n",
      "\n",
      "See the caveats in the documentation: http://pandas.pydata.org/pandas-docs/stable/user_guide/indexing.html#returning-a-view-versus-a-copy\n",
      "  \"\"\"Entry point for launching an IPython kernel.\n"
     ]
    }
   ],
   "source": [
    "df_cleaned['type']=df_cleaned['type'].str.lower();\n",
    "print(df_cleaned['type']);"
   ]
  },
  {
   "cell_type": "code",
   "execution_count": 30,
   "metadata": {},
   "outputs": [
    {
     "data": {
      "text/plain": [
       "<matplotlib.axes._subplots.AxesSubplot at 0x1a17cbf2d0>"
      ]
     },
     "execution_count": 30,
     "metadata": {},
     "output_type": "execute_result"
    },
    {
     "data": {
      "image/png": "[encoded data removed]",
      "text/plain": [
       "<Figure size 432x288 with 1 Axes>"
      ]
     },
     "metadata": {
      "needs_background": "light"
     },
     "output_type": "display_data"
    }
   ],
   "source": [
    "df_cleaned.boxplot(column=[\"price\"])"
   ]
  },
  {
   "cell_type": "code",
   "execution_count": 31,
   "metadata": {},
   "outputs": [],
   "source": [
    "def remove_outlier(col):\n",
    "    sorted(col)\n",
    "    Q1,Q3=col.quantile([0.25,0.75])\n",
    "    IQR=Q3-Q1\n",
    "    lower_range=Q1-(1.5*IQR)\n",
    "    upper_range=Q3+(1.5*IQR)\n",
    "    return lower_range, upper_range "
   ]
  },
  {
   "cell_type": "code",
   "execution_count": 32,
   "metadata": {},
   "outputs": [
    {
     "name": "stderr",
     "output_type": "stream",
     "text": [
      "/opt/anaconda3/lib/python3.7/site-packages/ipykernel_launcher.py:2: SettingWithCopyWarning: \n",
      "A value is trying to be set on a copy of a slice from a DataFrame.\n",
      "Try using .loc[row_indexer,col_indexer] = value instead\n",
      "\n",
      "See the caveats in the documentation: http://pandas.pydata.org/pandas-docs/stable/user_guide/indexing.html#returning-a-view-versus-a-copy\n",
      "  \n",
      "/opt/anaconda3/lib/python3.7/site-packages/ipykernel_launcher.py:3: SettingWithCopyWarning: \n",
      "A value is trying to be set on a copy of a slice from a DataFrame.\n",
      "Try using .loc[row_indexer,col_indexer] = value instead\n",
      "\n",
      "See the caveats in the documentation: http://pandas.pydata.org/pandas-docs/stable/user_guide/indexing.html#returning-a-view-versus-a-copy\n",
      "  This is separate from the ipykernel package so we can avoid doing imports until\n"
     ]
    }
   ],
   "source": [
    "lowprice, highprice=remove_outlier(df_cleaned[\"price\"])\n",
    "df_cleaned[\"price\"]=np.where(df_cleaned[\"price\"]>highprice,highprice,df_cleaned[\"price\"])\n",
    "df_cleaned[\"price\"]=np.where(df_cleaned[\"price\"]<lowprice,lowprice,df_cleaned[\"price\"])"
   ]
  },
  {
   "cell_type": "code",
   "execution_count": 33,
   "metadata": {},
   "outputs": [
    {
     "data": {
      "text/plain": [
       "<matplotlib.axes._subplots.AxesSubplot at 0x1a17bd24d0>"
      ]
     },
     "execution_count": 33,
     "metadata": {},
     "output_type": "execute_result"
    },
    {
     "data": {
      "image/png": "[encoded data removed]",
      "text/plain": [
       "<Figure size 432x288 with 1 Axes>"
      ]
     },
     "metadata": {
      "needs_background": "light"
     },
     "output_type": "display_data"
    }
   ],
   "source": [
    "df_cleaned.boxplot(column=[\"price\"])"
   ]
  },
  {
   "cell_type": "code",
   "execution_count": 34,
   "metadata": {},
   "outputs": [
    {
     "name": "stdout",
     "output_type": "stream",
     "text": [
      "(608, 19)\n"
     ]
    }
   ],
   "source": [
    "print(df_cleaned.shape);"
   ]
  },
  {
   "cell_type": "code",
   "execution_count": 35,
   "metadata": {},
   "outputs": [
    {
     "data": {
      "text/plain": [
       "price       21545.124794\n",
       "year         2013.245066\n",
       "odometer    85172.337171\n",
       "lat            43.770932\n",
       "long         -102.462420\n",
       "dtype: float64"
      ]
     },
     "execution_count": 35,
     "metadata": {},
     "output_type": "execute_result"
    }
   ],
   "source": [
    "df_cleaned.mean()"
   ]
  },
  {
   "cell_type": "code",
   "execution_count": 36,
   "metadata": {},
   "outputs": [
    {
     "data": {
      "text/plain": [
       "price       2.397348e+08\n",
       "year        3.469602e+01\n",
       "odometer    3.554304e+09\n",
       "lat         3.217492e+01\n",
       "long        2.921059e+02\n",
       "dtype: float64"
      ]
     },
     "execution_count": 36,
     "metadata": {},
     "output_type": "execute_result"
    }
   ],
   "source": [
    "df_cleaned.var()"
   ]
  },
  {
   "cell_type": "code",
   "execution_count": 37,
   "metadata": {},
   "outputs": [
    {
     "data": {
      "text/html": [
       "<div>\n",
       "<style scoped>\n",
       "    .dataframe tbody tr th:only-of-type {\n",
       "        vertical-align: middle;\n",
       "    }\n",
       "\n",
       "    .dataframe tbody tr th {\n",
       "        vertical-align: top;\n",
       "    }\n",
       "\n",
       "    .dataframe thead th {\n",
       "        text-align: right;\n",
       "    }\n",
       "</style>\n",
       "<table border=\"1\" class=\"dataframe\">\n",
       "  <thead>\n",
       "    <tr style=\"text-align: right;\">\n",
       "      <th></th>\n",
       "      <th>url</th>\n",
       "      <th>region</th>\n",
       "      <th>region_url</th>\n",
       "      <th>price</th>\n",
       "      <th>year</th>\n",
       "      <th>manufacturer</th>\n",
       "      <th>fuel</th>\n",
       "      <th>odometer</th>\n",
       "      <th>title_status</th>\n",
       "      <th>transmission</th>\n",
       "      <th>...</th>\n",
       "      <th>paint_color</th>\n",
       "      <th>image_url</th>\n",
       "      <th>description</th>\n",
       "      <th>state</th>\n",
       "      <th>lat</th>\n",
       "      <th>long</th>\n",
       "      <th>n_price</th>\n",
       "      <th>n_odometer</th>\n",
       "      <th>n_lat</th>\n",
       "      <th>n_long</th>\n",
       "    </tr>\n",
       "  </thead>\n",
       "  <tbody>\n",
       "    <tr>\n",
       "      <td>4</td>\n",
       "      <td>https://duluth.craigslist.org/ctd/d/rush-city-...</td>\n",
       "      <td>duluth / superior</td>\n",
       "      <td>https://duluth.craigslist.org</td>\n",
       "      <td>16995.000</td>\n",
       "      <td>2007</td>\n",
       "      <td>gmc</td>\n",
       "      <td>diesel</td>\n",
       "      <td>254217.0</td>\n",
       "      <td>clean</td>\n",
       "      <td>automatic</td>\n",
       "      <td>...</td>\n",
       "      <td>white</td>\n",
       "      <td>https://images.craigslist.org/01414_g093aPtSMW...</td>\n",
       "      <td>**Bad Credit, No Credit... No Problem!**2007 G...</td>\n",
       "      <td>mn</td>\n",
       "      <td>45.6836</td>\n",
       "      <td>-92.9648</td>\n",
       "      <td>0.265242</td>\n",
       "      <td>0.940395</td>\n",
       "      <td>0.860505</td>\n",
       "      <td>0.595716</td>\n",
       "    </tr>\n",
       "    <tr>\n",
       "      <td>5</td>\n",
       "      <td>https://duluth.craigslist.org/ctd/d/rush-city-...</td>\n",
       "      <td>duluth / superior</td>\n",
       "      <td>https://duluth.craigslist.org</td>\n",
       "      <td>13995.000</td>\n",
       "      <td>2012</td>\n",
       "      <td>ford</td>\n",
       "      <td>gas</td>\n",
       "      <td>188406.0</td>\n",
       "      <td>clean</td>\n",
       "      <td>automatic</td>\n",
       "      <td>...</td>\n",
       "      <td>grey</td>\n",
       "      <td>https://images.craigslist.org/00W0W_io2cwEVtyh...</td>\n",
       "      <td>**Bad Credit, No Credit... No Problem!**2012 F...</td>\n",
       "      <td>mn</td>\n",
       "      <td>45.6836</td>\n",
       "      <td>-92.9648</td>\n",
       "      <td>0.214864</td>\n",
       "      <td>0.696948</td>\n",
       "      <td>0.860505</td>\n",
       "      <td>0.595716</td>\n",
       "    </tr>\n",
       "    <tr>\n",
       "      <td>6</td>\n",
       "      <td>https://duluth.craigslist.org/ctd/d/rush-city-...</td>\n",
       "      <td>duluth / superior</td>\n",
       "      <td>https://duluth.craigslist.org</td>\n",
       "      <td>7995.000</td>\n",
       "      <td>2010</td>\n",
       "      <td>chevrolet</td>\n",
       "      <td>gas</td>\n",
       "      <td>108124.0</td>\n",
       "      <td>clean</td>\n",
       "      <td>automatic</td>\n",
       "      <td>...</td>\n",
       "      <td>grey</td>\n",
       "      <td>https://images.craigslist.org/00404_j5GItixnjX...</td>\n",
       "      <td>**Bad Credit, No Credit... No Problem!**2010 C...</td>\n",
       "      <td>mn</td>\n",
       "      <td>45.6836</td>\n",
       "      <td>-92.9648</td>\n",
       "      <td>0.114107</td>\n",
       "      <td>0.399970</td>\n",
       "      <td>0.860505</td>\n",
       "      <td>0.595716</td>\n",
       "    </tr>\n",
       "    <tr>\n",
       "      <td>7</td>\n",
       "      <td>https://duluth.craigslist.org/ctd/d/rush-city-...</td>\n",
       "      <td>duluth / superior</td>\n",
       "      <td>https://duluth.craigslist.org</td>\n",
       "      <td>8995.000</td>\n",
       "      <td>2011</td>\n",
       "      <td>chevrolet</td>\n",
       "      <td>gas</td>\n",
       "      <td>178054.0</td>\n",
       "      <td>clean</td>\n",
       "      <td>automatic</td>\n",
       "      <td>...</td>\n",
       "      <td>white</td>\n",
       "      <td>https://images.craigslist.org/00T0T_bwYCuKicjX...</td>\n",
       "      <td>**Bad Credit, No Credit... No Problem!**2011 C...</td>\n",
       "      <td>mn</td>\n",
       "      <td>45.6836</td>\n",
       "      <td>-92.9648</td>\n",
       "      <td>0.130900</td>\n",
       "      <td>0.658654</td>\n",
       "      <td>0.860505</td>\n",
       "      <td>0.595716</td>\n",
       "    </tr>\n",
       "    <tr>\n",
       "      <td>8</td>\n",
       "      <td>https://duluth.craigslist.org/ctd/d/rush-city-...</td>\n",
       "      <td>duluth / superior</td>\n",
       "      <td>https://duluth.craigslist.org</td>\n",
       "      <td>10995.000</td>\n",
       "      <td>2014</td>\n",
       "      <td>ford</td>\n",
       "      <td>gas</td>\n",
       "      <td>170259.0</td>\n",
       "      <td>clean</td>\n",
       "      <td>automatic</td>\n",
       "      <td>...</td>\n",
       "      <td>white</td>\n",
       "      <td>https://images.craigslist.org/00O0O_j7JSL1b8Qr...</td>\n",
       "      <td>**Bad Credit, No Credit... No Problem!**2014 F...</td>\n",
       "      <td>mn</td>\n",
       "      <td>45.6836</td>\n",
       "      <td>-92.9648</td>\n",
       "      <td>0.164485</td>\n",
       "      <td>0.629819</td>\n",
       "      <td>0.860505</td>\n",
       "      <td>0.595716</td>\n",
       "    </tr>\n",
       "    <tr>\n",
       "      <td>...</td>\n",
       "      <td>...</td>\n",
       "      <td>...</td>\n",
       "      <td>...</td>\n",
       "      <td>...</td>\n",
       "      <td>...</td>\n",
       "      <td>...</td>\n",
       "      <td>...</td>\n",
       "      <td>...</td>\n",
       "      <td>...</td>\n",
       "      <td>...</td>\n",
       "      <td>...</td>\n",
       "      <td>...</td>\n",
       "      <td>...</td>\n",
       "      <td>...</td>\n",
       "      <td>...</td>\n",
       "      <td>...</td>\n",
       "      <td>...</td>\n",
       "      <td>...</td>\n",
       "      <td>...</td>\n",
       "      <td>...</td>\n",
       "      <td>...</td>\n",
       "    </tr>\n",
       "    <tr>\n",
       "      <td>1987</td>\n",
       "      <td>https://kpr.craigslist.org/ctd/d/pasco-2020-ch...</td>\n",
       "      <td>kennewick-pasco-richland</td>\n",
       "      <td>https://kpr.craigslist.org</td>\n",
       "      <td>47999.000</td>\n",
       "      <td>2020</td>\n",
       "      <td>chevrolet</td>\n",
       "      <td>gas</td>\n",
       "      <td>13052.0</td>\n",
       "      <td>clean</td>\n",
       "      <td>automatic</td>\n",
       "      <td>...</td>\n",
       "      <td>silver</td>\n",
       "      <td>https://images.craigslist.org/00P0P_9aBNNpW1eG...</td>\n",
       "      <td>2020 Chevrolet Silverado 1500 LT 4x4 **Clean C...</td>\n",
       "      <td>wa</td>\n",
       "      <td>46.2348</td>\n",
       "      <td>-119.1280</td>\n",
       "      <td>0.785886</td>\n",
       "      <td>0.048282</td>\n",
       "      <td>0.884392</td>\n",
       "      <td>0.071667</td>\n",
       "    </tr>\n",
       "    <tr>\n",
       "      <td>1991</td>\n",
       "      <td>https://kpr.craigslist.org/ctd/d/kennewick-201...</td>\n",
       "      <td>kennewick-pasco-richland</td>\n",
       "      <td>https://kpr.craigslist.org</td>\n",
       "      <td>17977.000</td>\n",
       "      <td>2017</td>\n",
       "      <td>buick</td>\n",
       "      <td>gas</td>\n",
       "      <td>17785.0</td>\n",
       "      <td>clean</td>\n",
       "      <td>automatic</td>\n",
       "      <td>...</td>\n",
       "      <td>white</td>\n",
       "      <td>https://images.craigslist.org/00J0J_fvffTCuFpR...</td>\n",
       "      <td>2017 Buick Verano Sport Touring -- $17,977    ...</td>\n",
       "      <td>wa</td>\n",
       "      <td>46.2125</td>\n",
       "      <td>-119.1580</td>\n",
       "      <td>0.281733</td>\n",
       "      <td>0.065790</td>\n",
       "      <td>0.883426</td>\n",
       "      <td>0.071066</td>\n",
       "    </tr>\n",
       "    <tr>\n",
       "      <td>1992</td>\n",
       "      <td>https://kpr.craigslist.org/ctd/d/kennewick-201...</td>\n",
       "      <td>kennewick-pasco-richland</td>\n",
       "      <td>https://kpr.craigslist.org</td>\n",
       "      <td>19999.000</td>\n",
       "      <td>2016</td>\n",
       "      <td>honda</td>\n",
       "      <td>gas</td>\n",
       "      <td>57225.0</td>\n",
       "      <td>clean</td>\n",
       "      <td>automatic</td>\n",
       "      <td>...</td>\n",
       "      <td>silver</td>\n",
       "      <td>https://images.craigslist.org/00k0k_c12IU87Vns...</td>\n",
       "      <td>2016 Honda Accord Sport -- $19,999       ‚òé C...</td>\n",
       "      <td>wa</td>\n",
       "      <td>46.2125</td>\n",
       "      <td>-119.1580</td>\n",
       "      <td>0.315688</td>\n",
       "      <td>0.211686</td>\n",
       "      <td>0.883426</td>\n",
       "      <td>0.071066</td>\n",
       "    </tr>\n",
       "    <tr>\n",
       "      <td>1994</td>\n",
       "      <td>https://kpr.craigslist.org/ctd/d/pasco-lifted-...</td>\n",
       "      <td>kennewick-pasco-richland</td>\n",
       "      <td>https://kpr.craigslist.org</td>\n",
       "      <td>60749.375</td>\n",
       "      <td>2017</td>\n",
       "      <td>ford</td>\n",
       "      <td>diesel</td>\n",
       "      <td>19884.0</td>\n",
       "      <td>clean</td>\n",
       "      <td>automatic</td>\n",
       "      <td>...</td>\n",
       "      <td>white</td>\n",
       "      <td>https://images.craigslist.org/01515_kPu8RB5DZV...</td>\n",
       "      <td>2017 Ford F250 Lariat FX4 4x4 **Clean Carfax O...</td>\n",
       "      <td>wa</td>\n",
       "      <td>46.2348</td>\n",
       "      <td>-119.1280</td>\n",
       "      <td>1.000000</td>\n",
       "      <td>0.073555</td>\n",
       "      <td>0.884392</td>\n",
       "      <td>0.071667</td>\n",
       "    </tr>\n",
       "    <tr>\n",
       "      <td>1996</td>\n",
       "      <td>https://kpr.craigslist.org/ctd/d/pasco-2019-fo...</td>\n",
       "      <td>kennewick-pasco-richland</td>\n",
       "      <td>https://kpr.craigslist.org</td>\n",
       "      <td>60749.375</td>\n",
       "      <td>2019</td>\n",
       "      <td>ford</td>\n",
       "      <td>diesel</td>\n",
       "      <td>17328.0</td>\n",
       "      <td>clean</td>\n",
       "      <td>automatic</td>\n",
       "      <td>...</td>\n",
       "      <td>white</td>\n",
       "      <td>https://images.craigslist.org/01717_jfKMDf1UjN...</td>\n",
       "      <td>2019 Ford F350 Platinum FX4 4x4 **Clean Carfax...</td>\n",
       "      <td>wa</td>\n",
       "      <td>46.2348</td>\n",
       "      <td>-119.1280</td>\n",
       "      <td>1.000000</td>\n",
       "      <td>0.064099</td>\n",
       "      <td>0.884392</td>\n",
       "      <td>0.071667</td>\n",
       "    </tr>\n",
       "  </tbody>\n",
       "</table>\n",
       "<p>608 rows × 23 columns</p>\n",
       "</div>"
      ],
      "text/plain": [
       "                                                    url  \\\n",
       "4     https://duluth.craigslist.org/ctd/d/rush-city-...   \n",
       "5     https://duluth.craigslist.org/ctd/d/rush-city-...   \n",
       "6     https://duluth.craigslist.org/ctd/d/rush-city-...   \n",
       "7     https://duluth.craigslist.org/ctd/d/rush-city-...   \n",
       "8     https://duluth.craigslist.org/ctd/d/rush-city-...   \n",
       "...                                                 ...   \n",
       "1987  https://kpr.craigslist.org/ctd/d/pasco-2020-ch...   \n",
       "1991  https://kpr.craigslist.org/ctd/d/kennewick-201...   \n",
       "1992  https://kpr.craigslist.org/ctd/d/kennewick-201...   \n",
       "1994  https://kpr.craigslist.org/ctd/d/pasco-lifted-...   \n",
       "1996  https://kpr.craigslist.org/ctd/d/pasco-2019-fo...   \n",
       "\n",
       "                        region                     region_url      price  \\\n",
       "4            duluth / superior  https://duluth.craigslist.org  16995.000   \n",
       "5            duluth / superior  https://duluth.craigslist.org  13995.000   \n",
       "6            duluth / superior  https://duluth.craigslist.org   7995.000   \n",
       "7            duluth / superior  https://duluth.craigslist.org   8995.000   \n",
       "8            duluth / superior  https://duluth.craigslist.org  10995.000   \n",
       "...                        ...                            ...        ...   \n",
       "1987  kennewick-pasco-richland     https://kpr.craigslist.org  47999.000   \n",
       "1991  kennewick-pasco-richland     https://kpr.craigslist.org  17977.000   \n",
       "1992  kennewick-pasco-richland     https://kpr.craigslist.org  19999.000   \n",
       "1994  kennewick-pasco-richland     https://kpr.craigslist.org  60749.375   \n",
       "1996  kennewick-pasco-richland     https://kpr.craigslist.org  60749.375   \n",
       "\n",
       "      year manufacturer    fuel  odometer title_status transmission  ...  \\\n",
       "4     2007          gmc  diesel  254217.0        clean    automatic  ...   \n",
       "5     2012         ford     gas  188406.0        clean    automatic  ...   \n",
       "6     2010    chevrolet     gas  108124.0        clean    automatic  ...   \n",
       "7     2011    chevrolet     gas  178054.0        clean    automatic  ...   \n",
       "8     2014         ford     gas  170259.0        clean    automatic  ...   \n",
       "...    ...          ...     ...       ...          ...          ...  ...   \n",
       "1987  2020    chevrolet     gas   13052.0        clean    automatic  ...   \n",
       "1991  2017        buick     gas   17785.0        clean    automatic  ...   \n",
       "1992  2016        honda     gas   57225.0        clean    automatic  ...   \n",
       "1994  2017         ford  diesel   19884.0        clean    automatic  ...   \n",
       "1996  2019         ford  diesel   17328.0        clean    automatic  ...   \n",
       "\n",
       "     paint_color                                          image_url  \\\n",
       "4          white  https://images.craigslist.org/01414_g093aPtSMW...   \n",
       "5           grey  https://images.craigslist.org/00W0W_io2cwEVtyh...   \n",
       "6           grey  https://images.craigslist.org/00404_j5GItixnjX...   \n",
       "7          white  https://images.craigslist.org/00T0T_bwYCuKicjX...   \n",
       "8          white  https://images.craigslist.org/00O0O_j7JSL1b8Qr...   \n",
       "...          ...                                                ...   \n",
       "1987      silver  https://images.craigslist.org/00P0P_9aBNNpW1eG...   \n",
       "1991       white  https://images.craigslist.org/00J0J_fvffTCuFpR...   \n",
       "1992      silver  https://images.craigslist.org/00k0k_c12IU87Vns...   \n",
       "1994       white  https://images.craigslist.org/01515_kPu8RB5DZV...   \n",
       "1996       white  https://images.craigslist.org/01717_jfKMDf1UjN...   \n",
       "\n",
       "                                            description state      lat  \\\n",
       "4     **Bad Credit, No Credit... No Problem!**2007 G...    mn  45.6836   \n",
       "5     **Bad Credit, No Credit... No Problem!**2012 F...    mn  45.6836   \n",
       "6     **Bad Credit, No Credit... No Problem!**2010 C...    mn  45.6836   \n",
       "7     **Bad Credit, No Credit... No Problem!**2011 C...    mn  45.6836   \n",
       "8     **Bad Credit, No Credit... No Problem!**2014 F...    mn  45.6836   \n",
       "...                                                 ...   ...      ...   \n",
       "1987  2020 Chevrolet Silverado 1500 LT 4x4 **Clean C...    wa  46.2348   \n",
       "1991  2017 Buick Verano Sport Touring -- $17,977    ...    wa  46.2125   \n",
       "1992  2016 Honda Accord Sport -- $19,999       ‚òé C...    wa  46.2125   \n",
       "1994  2017 Ford F250 Lariat FX4 4x4 **Clean Carfax O...    wa  46.2348   \n",
       "1996  2019 Ford F350 Platinum FX4 4x4 **Clean Carfax...    wa  46.2348   \n",
       "\n",
       "          long   n_price  n_odometer     n_lat    n_long  \n",
       "4     -92.9648  0.265242    0.940395  0.860505  0.595716  \n",
       "5     -92.9648  0.214864    0.696948  0.860505  0.595716  \n",
       "6     -92.9648  0.114107    0.399970  0.860505  0.595716  \n",
       "7     -92.9648  0.130900    0.658654  0.860505  0.595716  \n",
       "8     -92.9648  0.164485    0.629819  0.860505  0.595716  \n",
       "...        ...       ...         ...       ...       ...  \n",
       "1987 -119.1280  0.785886    0.048282  0.884392  0.071667  \n",
       "1991 -119.1580  0.281733    0.065790  0.883426  0.071066  \n",
       "1992 -119.1580  0.315688    0.211686  0.883426  0.071066  \n",
       "1994 -119.1280  1.000000    0.073555  0.884392  0.071667  \n",
       "1996 -119.1280  1.000000    0.064099  0.884392  0.071667  \n",
       "\n",
       "[608 rows x 23 columns]"
      ]
     },
     "execution_count": 37,
     "metadata": {},
     "output_type": "execute_result"
    }
   ],
   "source": [
    "from sklearn.preprocessing import MinMaxScaler\n",
    "col = ['price', 'odometer', 'lat', 'long']\n",
    "data = df_cleaned[col]\n",
    "s = data.values.astype(float)\n",
    "min_max_scaler = MinMaxScaler(feature_range=(0,1))\n",
    "s_scaled = min_max_scaler.fit_transform(s)\n",
    "df_normalized = pd.DataFrame(s_scaled, columns=col,index=df_cleaned.index)\n",
    "df_normalized = df_normalized.rename(columns={'price':'n_price', 'odometer':'n_odometer', 'lat':'n_lat', 'long':'n_long'})\n",
    "df_cleaned = pd.concat([df_cleaned, df_normalized],axis=1)\n",
    "df_cleaned"
   ]
  },
  {
   "cell_type": "code",
   "execution_count": 201,
   "metadata": {},
   "outputs": [
    {
     "name": "stdout",
     "output_type": "stream",
     "text": [
      "price\n"
     ]
    },
    {
     "data": {
      "image/png": "[encoded data removed]",
      "text/plain": [
       "<Figure size 432x288 with 1 Axes>"
      ]
     },
     "metadata": {
      "needs_background": "light"
     },
     "output_type": "display_data"
    },
    {
     "name": "stdout",
     "output_type": "stream",
     "text": [
      "odometer\n"
     ]
    },
    {
     "data": {
      "image/png": "[encoded data removed]",
      "text/plain": [
       "<Figure size 432x288 with 1 Axes>"
      ]
     },
     "metadata": {
      "needs_background": "light"
     },
     "output_type": "display_data"
    }
   ],
   "source": [
    "data = df_cleaned[['price','odometer']]\n",
    "for i in data:\n",
    "    print(i)\n",
    "    plt.hist(df_cleaned[i])\n",
    "    plt.title('Before Normalization')\n",
    "    plt.show()"
   ]
  },
  {
   "cell_type": "code",
   "execution_count": 202,
   "metadata": {},
   "outputs": [
    {
     "name": "stdout",
     "output_type": "stream",
     "text": [
      "n_price\n"
     ]
    },
    {
     "data": {
      "image/png": "[encoded data removed]",
      "text/plain": [
       "<Figure size 432x288 with 1 Axes>"
      ]
     },
     "metadata": {
      "needs_background": "light"
     },
     "output_type": "display_data"
    },
    {
     "name": "stdout",
     "output_type": "stream",
     "text": [
      "n_odometer\n"
     ]
    },
    {
     "data": {
      "image/png": "[encoded data removed]",
      "text/plain": [
       "<Figure size 432x288 with 1 Axes>"
      ]
     },
     "metadata": {
      "needs_background": "light"
     },
     "output_type": "display_data"
    }
   ],
   "source": [
    "data = df_cleaned[['n_price', 'n_odometer']]\n",
    "for i in data:\n",
    "    print(i)\n",
    "    plt.hist(df_normalized[i])\n",
    "    plt.title('After Normalization')\n",
    "    plt.show()"
   ]
  },
  {
   "cell_type": "code",
   "execution_count": 203,
   "metadata": {},
   "outputs": [
    {
     "name": "stdout",
     "output_type": "stream",
     "text": [
      "n_price       0.4\n",
      "n_odometer    0.4\n",
      "n_lat         0.6\n",
      "n_long        0.6\n",
      "dtype: float64\n",
      "n_price       0.1\n",
      "n_odometer    0.0\n",
      "n_lat         0.1\n",
      "n_long        0.1\n",
      "dtype: float64\n"
     ]
    }
   ],
   "source": [
    "print(df_normalized.mean().round(decimals=1))\n",
    "print(df_normalized.var().round(decimals=1))"
   ]
  },
  {
   "cell_type": "code",
   "execution_count": 204,
   "metadata": {},
   "outputs": [
    {
     "data": {
      "text/html": [
       "<div>\n",
       "<style scoped>\n",
       "    .dataframe tbody tr th:only-of-type {\n",
       "        vertical-align: middle;\n",
       "    }\n",
       "\n",
       "    .dataframe tbody tr th {\n",
       "        vertical-align: top;\n",
       "    }\n",
       "\n",
       "    .dataframe thead th {\n",
       "        text-align: right;\n",
       "    }\n",
       "</style>\n",
       "<table border=\"1\" class=\"dataframe\">\n",
       "  <thead>\n",
       "    <tr style=\"text-align: right;\">\n",
       "      <th></th>\n",
       "      <th>price</th>\n",
       "      <th>odometer</th>\n",
       "      <th>lat</th>\n",
       "      <th>long</th>\n",
       "    </tr>\n",
       "  </thead>\n",
       "  <tbody>\n",
       "    <tr>\n",
       "      <td>0</td>\n",
       "      <td>-0.770887</td>\n",
       "      <td>1.011780</td>\n",
       "      <td>1.065842</td>\n",
       "      <td>-0.198309</td>\n",
       "    </tr>\n",
       "    <tr>\n",
       "      <td>1</td>\n",
       "      <td>-0.564810</td>\n",
       "      <td>-0.353835</td>\n",
       "      <td>1.078968</td>\n",
       "      <td>-0.216944</td>\n",
       "    </tr>\n",
       "    <tr>\n",
       "      <td>2</td>\n",
       "      <td>-0.312350</td>\n",
       "      <td>-0.318720</td>\n",
       "      <td>-0.094491</td>\n",
       "      <td>1.508169</td>\n",
       "    </tr>\n",
       "    <tr>\n",
       "      <td>3</td>\n",
       "      <td>0.403344</td>\n",
       "      <td>2.545466</td>\n",
       "      <td>0.828361</td>\n",
       "      <td>-0.261655</td>\n",
       "    </tr>\n",
       "    <tr>\n",
       "      <td>4</td>\n",
       "      <td>0.051074</td>\n",
       "      <td>1.377714</td>\n",
       "      <td>0.828361</td>\n",
       "      <td>-0.261655</td>\n",
       "    </tr>\n",
       "    <tr>\n",
       "      <td>...</td>\n",
       "      <td>...</td>\n",
       "      <td>...</td>\n",
       "      <td>...</td>\n",
       "      <td>...</td>\n",
       "    </tr>\n",
       "    <tr>\n",
       "      <td>411</td>\n",
       "      <td>-1.151925</td>\n",
       "      <td>0.944654</td>\n",
       "      <td>-0.555282</td>\n",
       "      <td>1.057841</td>\n",
       "    </tr>\n",
       "    <tr>\n",
       "      <td>412</td>\n",
       "      <td>-0.858368</td>\n",
       "      <td>0.802702</td>\n",
       "      <td>-0.555282</td>\n",
       "      <td>1.057841</td>\n",
       "    </tr>\n",
       "    <tr>\n",
       "      <td>413</td>\n",
       "      <td>0.075029</td>\n",
       "      <td>-1.332790</td>\n",
       "      <td>-0.509555</td>\n",
       "      <td>1.049863</td>\n",
       "    </tr>\n",
       "    <tr>\n",
       "      <td>414</td>\n",
       "      <td>2.474394</td>\n",
       "      <td>-0.807479</td>\n",
       "      <td>-1.688748</td>\n",
       "      <td>-1.953747</td>\n",
       "    </tr>\n",
       "    <tr>\n",
       "      <td>415</td>\n",
       "      <td>-0.829012</td>\n",
       "      <td>-0.208707</td>\n",
       "      <td>-0.555282</td>\n",
       "      <td>1.057841</td>\n",
       "    </tr>\n",
       "  </tbody>\n",
       "</table>\n",
       "<p>416 rows × 4 columns</p>\n",
       "</div>"
      ],
      "text/plain": [
       "        price  odometer       lat      long\n",
       "0   -0.770887  1.011780  1.065842 -0.198309\n",
       "1   -0.564810 -0.353835  1.078968 -0.216944\n",
       "2   -0.312350 -0.318720 -0.094491  1.508169\n",
       "3    0.403344  2.545466  0.828361 -0.261655\n",
       "4    0.051074  1.377714  0.828361 -0.261655\n",
       "..        ...       ...       ...       ...\n",
       "411 -1.151925  0.944654 -0.555282  1.057841\n",
       "412 -0.858368  0.802702 -0.555282  1.057841\n",
       "413  0.075029 -1.332790 -0.509555  1.049863\n",
       "414  2.474394 -0.807479 -1.688748 -1.953747\n",
       "415 -0.829012 -0.208707 -0.555282  1.057841\n",
       "\n",
       "[416 rows x 4 columns]"
      ]
     },
     "execution_count": 204,
     "metadata": {},
     "output_type": "execute_result"
    }
   ],
   "source": [
    "from sklearn.preprocessing import StandardScaler\n",
    "scaler = StandardScaler()\n",
    "scaled = scaler.fit_transform(s)\n",
    "df_std = pd.DataFrame(scaled)\n",
    "df_std = df_std.rename(columns={0:'price', 1:'odometer', 2:'lat', 3:'long'})\n",
    "df_std"
   ]
  },
  {
   "cell_type": "code",
   "execution_count": 205,
   "metadata": {},
   "outputs": [
    {
     "name": "stdout",
     "output_type": "stream",
     "text": [
      "price\n"
     ]
    },
    {
     "data": {
      "image/png": "[encoded data removed]",
      "text/plain": [
       "<Figure size 432x288 with 1 Axes>"
      ]
     },
     "metadata": {
      "needs_background": "light"
     },
     "output_type": "display_data"
    },
    {
     "name": "stdout",
     "output_type": "stream",
     "text": [
      "odometer\n"
     ]
    },
    {
     "data": {
      "image/png": "[encoded data removed]",
      "text/plain": [
       "<Figure size 432x288 with 1 Axes>"
      ]
     },
     "metadata": {
      "needs_background": "light"
     },
     "output_type": "display_data"
    }
   ],
   "source": [
    "data = df_cleaned[['price','odometer']]\n",
    "for i in data:\n",
    "    print(i)\n",
    "    plt.hist(df_std[i])\n",
    "    plt.title('After Standardization')\n",
    "    plt.show()"
   ]
  },
  {
   "cell_type": "code",
   "execution_count": 206,
   "metadata": {},
   "outputs": [
    {
     "data": {
      "text/plain": [
       "price      -0.0\n",
       "odometer    0.0\n",
       "lat         0.0\n",
       "long        0.0\n",
       "dtype: float64"
      ]
     },
     "execution_count": 206,
     "metadata": {},
     "output_type": "execute_result"
    }
   ],
   "source": [
    "df_std.mean().round(decimals=1)"
   ]
  },
  {
   "cell_type": "code",
   "execution_count": 207,
   "metadata": {},
   "outputs": [
    {
     "data": {
      "text/plain": [
       "price       1.0\n",
       "odometer    1.0\n",
       "lat         1.0\n",
       "long        1.0\n",
       "dtype: float64"
      ]
     },
     "execution_count": 207,
     "metadata": {},
     "output_type": "execute_result"
    }
   ],
   "source": [
    "df_std.var().round(decimals=1)"
   ]
  },
  {
   "cell_type": "code",
   "execution_count": 208,
   "metadata": {},
   "outputs": [
    {
     "data": {
      "text/plain": [
       "<matplotlib.axes._subplots.AxesSubplot at 0x1a22942990>"
      ]
     },
     "execution_count": 208,
     "metadata": {},
     "output_type": "execute_result"
    },
    {
     "data": {
      "image/png": "[encoded data removed]",
      "text/plain": [
       "<Figure size 432x288 with 1 Axes>"
      ]
     },
     "metadata": {
      "needs_background": "light"
     },
     "output_type": "display_data"
    }
   ],
   "source": [
    "df_cleaned['manufacturer'].value_counts().plot(kind='bar')"
   ]
  },
  {
   "cell_type": "code",
   "execution_count": 209,
   "metadata": {},
   "outputs": [
    {
     "data": {
      "text/plain": [
       "<matplotlib.axes._subplots.AxesSubplot at 0x1a28a3d9d0>"
      ]
     },
     "execution_count": 209,
     "metadata": {},
     "output_type": "execute_result"
    },
    {
     "data": {
      "image/png": "[encoded data removed]",
      "text/plain": [
       "<Figure size 432x288 with 1 Axes>"
      ]
     },
     "metadata": {
      "needs_background": "light"
     },
     "output_type": "display_data"
    }
   ],
   "source": [
    "df_cleaned['type'].value_counts().plot(kind='bar')"
   ]
  },
  {
   "cell_type": "code",
   "execution_count": 210,
   "metadata": {},
   "outputs": [
    {
     "data": {
      "text/plain": [
       "<matplotlib.axes._subplots.AxesSubplot at 0x1a23f70d90>"
      ]
     },
     "execution_count": 210,
     "metadata": {},
     "output_type": "execute_result"
    },
    {
     "data": {
      "image/png": "[encoded data removed]",
      "text/plain": [
       "<Figure size 432x288 with 1 Axes>"
      ]
     },
     "metadata": {
      "needs_background": "light"
     },
     "output_type": "display_data"
    }
   ],
   "source": [
    "plt.xticks(rotation=90)\n",
    "sns.boxplot(y='price', x='type', data=df_cleaned, showfliers=False)"
   ]
  },
  {
   "cell_type": "code",
   "execution_count": 211,
   "metadata": {},
   "outputs": [
    {
     "data": {
      "image/png": "[encoded data removed]",
      "text/plain": [
       "<Figure size 576x576 with 2 Axes>"
      ]
     },
     "metadata": {
      "needs_background": "light"
     },
     "output_type": "display_data"
    }
   ],
   "source": [
    "# Correlating numeric data\n",
    "df_c=df_cleaned.copy()\n",
    "df_c.drop(['price','odometer','lat','long'], axis=1, inplace=True) #drop extra colums of non-normalized data\n",
    "dataCorr = df_c.corr()\n",
    "plt.figure(figsize=(8,8))\n",
    "plt.title('Correlation', fontsize=14)\n",
    "sns.heatmap(dataCorr, annot=True, fmt='.2f', square=True, cmap = sns.diverging_palette(220, 20, as_cmap=True))\n",
    "plt.show()\n"
   ]
  },
  {
   "cell_type": "code",
   "execution_count": null,
   "metadata": {},
   "outputs": [],
   "source": []
  },
  {
   "cell_type": "code",
   "execution_count": 212,
   "metadata": {},
   "outputs": [
    {
     "name": "stdout",
     "output_type": "stream",
     "text": [
      "0      62.223723\n",
      "1      34.056484\n",
      "2      34.780776\n",
      "4      93.857608\n",
      "5      69.771512\n",
      "         ...    \n",
      "553    60.839187\n",
      "554    57.911275\n",
      "555    13.864510\n",
      "556    24.699612\n",
      "560    37.049908\n",
      "Name: odometer_norm, Length: 416, dtype: float64\n",
      "AxesSubplot(0.125,0.125;0.775x0.755)\n",
      "mu:  41.35470784160385 , sigma: 20.62604910875637\n",
      "1.3254508468380835\n"
     ]
    },
    {
     "data": {
      "image/png": "[encoded data removed]",
      "text/plain": [
       "<Figure size 432x288 with 1 Axes>"
      ]
     },
     "metadata": {
      "needs_background": "light"
     },
     "output_type": "display_data"
    }
   ],
   "source": [
    "from sklearn.preprocessing import MinMaxScaler\n",
    "\n",
    "scaler=MinMaxScaler(feature_range=(1,100))\n",
    "df_cleaned[\"odometer_norm\"]=scaler.fit_transform(df_cleaned[[\"odometer\"]])\n",
    "print(df_cleaned[\"odometer_norm\"])\n",
    "print(df_cleaned[\"odometer_norm\"].hist())\n",
    "\n",
    "odometer_norm = df_cleaned['odometer_norm']\n",
    "mu = odometer_norm.mean()\n",
    "sigma = odometer_norm.std(ddof=0)\n",
    "print(\"mu: \", mu, \", sigma:\", sigma)\n",
    "\n",
    "z_critical = 1.96 # alpha level of 0.05 and two-tailed test\n",
    "x_bar = 50\n",
    "N = 10\n",
    "SE = sigma/np.sqrt(N)\n",
    "z_stat = (x_bar - mu)/SE\n",
    "print(z_stat)\n"
   ]
  },
  {
   "cell_type": "markdown",
   "metadata": {},
   "source": [
    "# Hypothesis Testing\n",
    "Looking at the dataset we assume that the sales price of used suv's is low. We assume that the average sales price of used suv's is not more than $13560.03 \n",
    "\n"
   ]
  },
  {
   "cell_type": "code",
   "execution_count": 247,
   "metadata": {},
   "outputs": [
    {
     "name": "stdout",
     "output_type": "stream",
     "text": [
      "H0 : μ <= 13560.039663461539\n",
      "H1 : μ > 13560.039663461539\n",
      "alpha value is : 0.05 \n",
      "\n",
      "actual z value : 1.6448536269514729\n",
      "hypothesis z value : 0.569171043854627 \n",
      "\n",
      "Accept NULL hypothesis\n"
     ]
    }
   ],
   "source": [
    "from scipy.stats import norm\n",
    "def one_sided_hypo(sample_mean, pop_mean, pop_std, n, alpha):\n",
    "    actual_z = abs(norm.ppf(alpha))\n",
    "    hypo_z = (sample_mean - pop_mean) / (pop_std/np.sqrt(n))\n",
    "    print('actual z value :', actual_z)\n",
    "    print('hypothesis z value :', hypo_z, '\\n')\n",
    "    if hypo_z >= actual_z:\n",
    "        return True\n",
    "    else:\n",
    "        return False\n",
    "\n",
    "df_x = df_cleaned.loc[df_cleaned['type'] == 'suv']\n",
    "alpha = 0.05\n",
    "sample = df_x['price'].sample(50)\n",
    "sample_mean = sample.mean()\n",
    "df_x = df_cleaned.loc[df_cleaned['type'] == 'suv']\n",
    "pop_mean = df_cleaned['price'].mean()\n",
    "n =  50\n",
    "pop_std = df_cleaned['price'].std()\n",
    "\n",
    "print('H0 : μ <=', pop_mean)\n",
    "print('H1 : μ >', pop_mean)\n",
    "print('alpha value is :', alpha, '\\n')\n",
    "\n",
    "reject = one_sided_hypo(sample_mean, pop_mean, pop_std, n, alpha)\n",
    "if reject:\n",
    "    print('Reject NULL hypothesis')\n",
    "else:\n",
    "    print('Accept NULL hypothesis')"
   ]
  },
  {
   "cell_type": "code",
   "execution_count": 39,
   "metadata": {},
   "outputs": [
    {
     "data": {
      "text/plain": [
       "<seaborn.axisgrid.FacetGrid at 0x1a17ad35d0>"
      ]
     },
     "execution_count": 39,
     "metadata": {},
     "output_type": "execute_result"
    },
    {
     "data": {
      "image/png": "[encoded data removed]",
      "text/plain": [
       "<Figure size 288x288 with 1 Axes>"
      ]
     },
     "metadata": {
      "needs_background": "light"
     },
     "output_type": "display_data"
    }
   ],
   "source": [
    "sns.lmplot(x=\"odometer\", y=\"price\", data=df_cleaned, height=4, palette=\"dark\")"
   ]
  },
  {
   "cell_type": "code",
   "execution_count": 40,
   "metadata": {},
   "outputs": [
    {
     "data": {
      "text/plain": [
       "<matplotlib.axes._subplots.AxesSubplot at 0x1a16acea90>"
      ]
     },
     "execution_count": 40,
     "metadata": {},
     "output_type": "execute_result"
    },
    {
     "data": {
      "image/png": "[encoded data removed]",
      "text/plain": [
       "<Figure size 432x288 with 1 Axes>"
      ]
     },
     "metadata": {
      "needs_background": "light"
     },
     "output_type": "display_data"
    }
   ],
   "source": [
    "sns.kdeplot(df_cleaned['price'])"
   ]
  },
  {
   "cell_type": "code",
   "execution_count": 42,
   "metadata": {},
   "outputs": [
    {
     "data": {
      "text/plain": [
       "<matplotlib.axes._subplots.AxesSubplot at 0x1a16897810>"
      ]
     },
     "execution_count": 42,
     "metadata": {},
     "output_type": "execute_result"
    },
    {
     "data": {
      "image/png": "[encoded data removed]",
      "text/plain": [
       "<Figure size 432x288 with 1 Axes>"
      ]
     },
     "metadata": {
      "needs_background": "light"
     },
     "output_type": "display_data"
    }
   ],
   "source": [
    "sns.scatterplot(x=\"odometer\", y=\"price\", data=df_cleaned)"
   ]
  },
  {
   "cell_type": "code",
   "execution_count": 44,
   "metadata": {},
   "outputs": [
    {
     "data": {
      "text/plain": [
       "<matplotlib.axes._subplots.AxesSubplot at 0x1a17ae5f50>"
      ]
     },
     "execution_count": 44,
     "metadata": {},
     "output_type": "execute_result"
    },
    {
     "data": {
      "image/png": "[encoded data removed]",
      "text/plain": [
       "<Figure size 432x288 with 1 Axes>"
      ]
     },
     "metadata": {
      "needs_background": "light"
     },
     "output_type": "display_data"
    }
   ],
   "source": [
    "sns.distplot(df_cleaned['odometer'])"
   ]
  },
  {
   "cell_type": "code",
   "execution_count": 55,
   "metadata": {},
   "outputs": [
    {
     "data": {
      "text/plain": [
       "(20, 30)"
      ]
     },
     "execution_count": 55,
     "metadata": {},
     "output_type": "execute_result"
    },
    {
     "data": {
      "image/png": "[encoded data removed]",
      "text/plain": [
       "<Figure size 432x288 with 1 Axes>"
      ]
     },
     "metadata": {
      "needs_background": "light"
     },
     "output_type": "display_data"
    }
   ],
   "source": [
    "sns.barplot(x=\"year\", y=\"price\", data=df_cleaned)\n",
    "plt.xlim(20,30)"
   ]
  },
  {
   "cell_type": "code",
   "execution_count": 58,
   "metadata": {},
   "outputs": [
    {
     "data": {
      "text/plain": [
       "(20, 30)"
      ]
     },
     "execution_count": 58,
     "metadata": {},
     "output_type": "execute_result"
    },
    {
     "data": {
      "image/png": "[encoded data removed]",
      "text/plain": [
       "<Figure size 432x288 with 1 Axes>"
      ]
     },
     "metadata": {
      "needs_background": "light"
     },
     "output_type": "display_data"
    }
   ],
   "source": [
    "sns.boxplot(x=\"year\", y=\"price\",  data=df_cleaned)\n",
    "plt.xlim(20,30)"
   ]
  },
  {
   "cell_type": "code",
   "execution_count": 66,
   "metadata": {},
   "outputs": [
    {
     "data": {
      "text/plain": [
       "(20, 30)"
      ]
     },
     "execution_count": 66,
     "metadata": {},
     "output_type": "execute_result"
    },
    {
     "data": {
      "image/png": "[encoded data removed]",
      "text/plain": [
       "<Figure size 432x288 with 1 Axes>"
      ]
     },
     "metadata": {
      "needs_background": "light"
     },
     "output_type": "display_data"
    }
   ],
   "source": [
    "sns.violinplot(x=\"year\", y=\"price\",  data=df_cleaned)\n",
    "plt.xlim(20,30)"
   ]
  },
  {
   "cell_type": "code",
   "execution_count": 62,
   "metadata": {},
   "outputs": [
    {
     "data": {
      "text/plain": [
       "<seaborn.axisgrid.JointGrid at 0x1a19569250>"
      ]
     },
     "execution_count": 62,
     "metadata": {},
     "output_type": "execute_result"
    },
    {
     "data": {
      "image/png": "[encoded data removed]",
      "text/plain": [
       "<Figure size 432x432 with 3 Axes>"
      ]
     },
     "metadata": {
      "needs_background": "light"
     },
     "output_type": "display_data"
    }
   ],
   "source": [
    "sns.jointplot(x=\"odometer\", y=\"price\", data=df_cleaned, kind=\"reg\")"
   ]
  },
  {
   "cell_type": "code",
   "execution_count": null,
   "metadata": {},
   "outputs": [],
   "source": []
  },
  {
   "cell_type": "code",
   "execution_count": null,
   "metadata": {},
   "outputs": [],
   "source": []
  }
 ],
 "metadata": {
  "kernelspec": {
   "display_name": "Python 3",
   "language": "python",
   "name": "python3"
  },
  "language_info": {
   "codemirror_mode": {
    "name": "ipython",
    "version": 3
   },
   "file_extension": ".py",
   "mimetype": "text/x-python",
   "name": "python",
   "nbconvert_exporter": "python",
   "pygments_lexer": "ipython3",
   "version": "3.7.4"
  }
 },
 "nbformat": 4,
 "nbformat_minor": 2
}
